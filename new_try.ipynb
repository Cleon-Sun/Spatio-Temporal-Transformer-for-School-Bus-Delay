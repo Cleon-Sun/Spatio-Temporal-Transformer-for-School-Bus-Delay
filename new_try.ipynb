{
 "cells": [
  {
   "cell_type": "markdown",
   "metadata": {},
   "source": [
    "# Imports"
   ]
  },
  {
   "cell_type": "code",
   "execution_count": 2,
   "metadata": {},
   "outputs": [],
   "source": [
    "from utils.setseed import set_seed\n",
    "set_seed(1234)\n",
    "\n",
    "import os\n",
    "\n",
    "import numpy as np\n",
    "import torch\n",
    "from sklearn.preprocessing import StandardScaler\n",
    "from torch import optim, nn\n",
    "from torch.optim.lr_scheduler import LambdaLR\n",
    "from torch.utils.data import DataLoader\n",
    "from tqdm import tqdm\n",
    "\n",
    "from data.dataset import MyDataset\n",
    "from model.STTN import STTN\n",
    "from model.STTN_feature import STTN_feature\n",
    "from utils.earlystoping import EarlyStopping\n",
    "from utils.getdata import get_data\n",
    "from helper import import_data_new, get_data_train_no_X, get_adj\n"
   ]
  },
  {
   "cell_type": "markdown",
   "metadata": {},
   "source": [
    "# Preparing Data"
   ]
  },
  {
   "cell_type": "code",
   "execution_count": 9,
   "metadata": {},
   "outputs": [],
   "source": [
    "config = {\n",
    "    'his_len':3,\n",
    "    'pre_len':1,\n",
    "    'batch_size':3,\n",
    "    'lr':1e-3,\n",
    "\n",
    "}"
   ]
  },
  {
   "cell_type": "code",
   "execution_count": 3,
   "metadata": {},
   "outputs": [],
   "source": [
    "A = get_adj('adjacency_matrixdjace.npy')\n"
   ]
  },
  {
   "cell_type": "code",
   "execution_count": 5,
   "metadata": {},
   "outputs": [
    {
     "name": "stderr",
     "output_type": "stream",
     "text": [
      "/Users/sundemiao/Library/CloudStorage/GoogleDrive-cleons@andrew.cmu.edu/My Drive/STTN2/helper.py:23: DtypeWarning: Columns (0) have mixed types. Specify dtype option on import or set low_memory=False.\n",
      "  df = pd.read_csv(file_path)\n",
      "/Users/sundemiao/Library/CloudStorage/GoogleDrive-cleons@andrew.cmu.edu/My Drive/STTN2/helper.py:23: DtypeWarning: Columns (0) have mixed types. Specify dtype option on import or set low_memory=False.\n",
      "  df = pd.read_csv(file_path)\n"
     ]
    }
   ],
   "source": [
    "file_path = 'school_weekly_weather_traffic2(1).csv'\n",
    "df = import_data_new(file_path, train_test='train', weather='Yes',traffic='Yes',season_dummy='Yes')\n",
    "train = get_data_train_no_X(df, target_name='Avg_Delay_Time')\n",
    "mean = torch.mean(train).item()\n",
    "std = torch.std(train).item()\n",
    "train = (train - mean) / std\n",
    "\n",
    "df_test = import_data_new(file_path, train_test='test', weather='Yes',traffic='Yes',season_dummy='Yes')\n",
    "test = get_data_train_no_X(df_test, target_name='Avg_Delay_Time')\n",
    "test = (test - mean) / std"
   ]
  },
  {
   "cell_type": "code",
   "execution_count": 8,
   "metadata": {},
   "outputs": [],
   "source": [
    "trainset = MyDataset(data=train, his_len=config['his_len'], pre_len=config['pre_len'])\n",
    "validset = MyDataset(data=test, his_len=config['his_len'], pre_len=config['pre_len'])\n",
    "testset = MyDataset(data=test, his_len=config['his_len'], pre_len=config['pre_len'])\n",
    "\n",
    "trainloader = DataLoader(trainset, batch_size=config['batch_size'], shuffle=True)\n",
    "validloader = DataLoader(validset, batch_size=config['batch_size'], shuffle=True)\n",
    "testloader = DataLoader(testset, batch_size=config['batch_size'], shuffle=False)"
   ]
  },
  {
   "cell_type": "code",
   "execution_count": null,
   "metadata": {},
   "outputs": [],
   "source": []
  },
  {
   "cell_type": "markdown",
   "metadata": {},
   "source": [
    "# Train Def and Config"
   ]
  },
  {
   "cell_type": "code",
   "execution_count": 12,
   "metadata": {},
   "outputs": [],
   "source": [
    "device = torch.device(\"cuda\" if torch.cuda.is_available() else \"mps\")\n",
    "model = STTN(adj=A, len_his=config['his_len'], len_pred=config['pre_len']).to(device)\n",
    "optimizer = optim.Adam(model.parameters(), lr=config['lr'], weight_decay=1e-4)\n",
    "scheduler = LambdaLR(optimizer, lr_lambda=lambda epoch: 0.95 ** ((epoch - 1) // 2))\n",
    "criterion = nn.L1Loss()"
   ]
  },
  {
   "cell_type": "code",
   "execution_count": 14,
   "metadata": {},
   "outputs": [],
   "source": [
    "def one_batch(model, criterion, batch_x,batch_y):\n",
    "    batch_x, batch_y = batch_x.to(device), batch_y.to(device)\n",
    "    output = model(batch_x)\n",
    "    loss = criterion(output, batch_y)\n",
    "    return loss, output\n",
    "\n",
    "def save_model(model, optimizer,scheduler,epoch, loss, best_val_loss, path):\n",
    "    torch.save({'model_state_dict':model.state_dict(),\n",
    "                'optimizer_state_dict':optimizer.state_dict(),\n",
    "                'scheduler_state_dict':scheduler.state_dict(),\n",
    "                'epoch':epoch,\n",
    "                'loss':loss})\n",
    "    if loss<best_val_loss:\n",
    "        torch.save({'model_state_dict':model.state_dict(),\n",
    "                'optimizer_state_dict':optimizer.state_dict(),\n",
    "                'scheduler_state_dict':scheduler.state_dict(),\n",
    "                'epoch':epoch,\n",
    "                'best_val_loss':best_val_loss})\n",
    "        \n",
    "def tqdm_bar(batch_bar,total_loss,optimizer):\n",
    "    batch_bar.set_postfix(\n",
    "            loss        = \"{:.04f}\".format(float(total_loss / (i + 1))),\n",
    "            lr          = \"{:.04f}\".format(float(optimizer.param_groups[0]['lr']))\n",
    "        )\n",
    "    batch_bar.update()\n"
   ]
  },
  {
   "cell_type": "code",
   "execution_count": null,
   "metadata": {},
   "outputs": [],
   "source": [
    "def train(model,scheduler,optimizer,)"
   ]
  }
 ],
 "metadata": {
  "kernelspec": {
   "display_name": "base",
   "language": "python",
   "name": "python3"
  },
  "language_info": {
   "codemirror_mode": {
    "name": "ipython",
    "version": 3
   },
   "file_extension": ".py",
   "mimetype": "text/x-python",
   "name": "python",
   "nbconvert_exporter": "python",
   "pygments_lexer": "ipython3",
   "version": "3.11.3"
  }
 },
 "nbformat": 4,
 "nbformat_minor": 2
}
